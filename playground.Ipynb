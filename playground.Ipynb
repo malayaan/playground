{
 "cells": [
  {
   "cell_type": "code",
   "execution_count": 109,
   "metadata": {},
   "outputs": [],
   "source": [
    "import pandas as pd\n",
    "import numpy as np"
   ]
  },
  {
   "cell_type": "code",
   "execution_count": 110,
   "metadata": {},
   "outputs": [],
   "source": [
    "# Generate simulated data for PM\n",
    "pm_data = pd.DataFrame({\n",
    "    'nom': np.random.choice(['PM1', 'PM2', 'PM3', 'PM4'], size=5),\n",
    "    'id': np.random.randint(1000, 1005, size=5)\n",
    "})\n",
    "\n",
    "# Generate simulated data for PP (three datasets)\n",
    "pp_data1 = pd.DataFrame({\n",
    "    'nom': np.random.choice(['PP1', 'PP2', 'PP3'], size=5),\n",
    "    'id': np.random.randint(2000, 2005, size=5)\n",
    "})\n",
    "pp_data2 = pd.DataFrame({\n",
    "    'nom': np.random.choice(['PP4', 'PP5', 'PP6'], size=5),\n",
    "    'id': np.random.randint(2005, 2010, size=5)\n",
    "})\n",
    "pp_data3 = pd.DataFrame({\n",
    "    'nom': np.random.choice(['PP7', 'PP8', 'PP9'], size=5),\n",
    "    'id': np.random.randint(2010, 2015, size=5)\n",
    "})"
   ]
  },
  {
   "cell_type": "code",
   "execution_count": 111,
   "metadata": {},
   "outputs": [
    {
     "data": {
      "text/plain": [
       "(   nom    id\n",
       " 0  PM2  1003\n",
       " 1  PM3  1004\n",
       " 2  PM1  1000\n",
       " 3  PM4  1002\n",
       " 4  PM1  1002,\n",
       " (5, 2),\n",
       "    nom    id\n",
       " 0  PP1  2002\n",
       " 1  PP3  2001\n",
       " 2  PP1  2000\n",
       " 3  PP2  2001\n",
       " 4  PP1  2000,\n",
       " (5, 2),\n",
       "    nom    id\n",
       " 0  PP4  2007\n",
       " 1  PP4  2006\n",
       " 2  PP4  2005\n",
       " 3  PP6  2009\n",
       " 4  PP4  2007,\n",
       " (5, 2),\n",
       "    nom    id\n",
       " 0  PP8  2014\n",
       " 1  PP9  2012\n",
       " 2  PP8  2010\n",
       " 3  PP7  2013\n",
       " 4  PP7  2012,\n",
       " (5, 2))"
      ]
     },
     "execution_count": 111,
     "metadata": {},
     "output_type": "execute_result"
    }
   ],
   "source": [
    "pm_data.head(),pm_data.shape,pp_data1.head(),pp_data1.shape,pp_data2.head(),pp_data2.shape,pp_data3.head(),pp_data3.shape\n"
   ]
  },
  {
   "cell_type": "code",
   "execution_count": 112,
   "metadata": {},
   "outputs": [],
   "source": [
    "# Concatenate PP datasets\n",
    "pp_concat = pd.concat([pp_data1, pp_data2, pp_data3])\n"
   ]
  },
  {
   "cell_type": "code",
   "execution_count": 113,
   "metadata": {},
   "outputs": [
    {
     "data": {
      "text/plain": [
       "(   nom    id\n",
       " 0  PP1  2002\n",
       " 1  PP3  2001\n",
       " 2  PP1  2000\n",
       " 3  PP2  2001\n",
       " 4  PP1  2000\n",
       " 0  PP4  2007\n",
       " 1  PP4  2006\n",
       " 2  PP4  2005\n",
       " 3  PP6  2009\n",
       " 4  PP4  2007\n",
       " 0  PP8  2014\n",
       " 1  PP9  2012\n",
       " 2  PP8  2010\n",
       " 3  PP7  2013\n",
       " 4  PP7  2012,\n",
       " (15, 2))"
      ]
     },
     "execution_count": 113,
     "metadata": {},
     "output_type": "execute_result"
    }
   ],
   "source": [
    "pp_concat.head(15), pp_concat.shape"
   ]
  },
  {
   "cell_type": "code",
   "execution_count": 114,
   "metadata": {},
   "outputs": [
    {
     "name": "stdout",
     "output_type": "stream",
     "text": [
      "    pm  sci   pp\n",
      "0  PM2       PP1\n",
      "1  PM2  PM4  PP2\n",
      "2  PM3  PM4  PP3\n",
      "3       PM5  PP4\n",
      "4  PM3       PP5\n",
      "5       PM5  PP6\n"
     ]
    }
   ],
   "source": [
    "# Linking table as described\n",
    "linking_data = pd.DataFrame({\n",
    "    'pm': ['PM2', 'PM2', 'PM3', '', 'PM3', ''],\n",
    "    'sci': ['', 'PM4', 'PM4', 'PM5', '', 'PM5'],\n",
    "    'pp': ['PP1', 'PP2', 'PP3', 'PP4', 'PP5', 'PP6']\n",
    "})\n",
    "\n",
    "print(linking_data)"
   ]
  },
  {
   "cell_type": "code",
   "execution_count": 115,
   "metadata": {},
   "outputs": [
    {
     "name": "stdout",
     "output_type": "stream",
     "text": [
      "    pm  sci   pp\n",
      "0  PM2       PP1\n",
      "1  PM2  PM4  PP2\n",
      "2  PM3  PM4  PP3\n",
      "3  PM5  PM5  PP4\n",
      "4  PM3       PP5\n",
      "5  PM5  PM5  PP6\n"
     ]
    }
   ],
   "source": [
    "# Unify 'pm' and 'sci' where 'sci' is not empty\n",
    "linking_data['pm'] = linking_data.apply(lambda x: x['sci'] if x['pm'] == '' else x['pm'], axis=1)\n",
    "print(linking_data)"
   ]
  },
  {
   "cell_type": "code",
   "execution_count": 116,
   "metadata": {},
   "outputs": [
    {
     "name": "stdout",
     "output_type": "stream",
     "text": [
      "    pm  sci   pp\n",
      "0  PM2       PP1\n",
      "1  PM2  PM4  PP2\n",
      "2  PM3  PM4  PP3\n",
      "3  PM5       PP4\n",
      "4  PM3       PP5\n",
      "5  PM5       PP6\n"
     ]
    }
   ],
   "source": [
    "linking_data['sci'] = linking_data.apply(lambda x: '' if x['sci'] == x['pm'] else x['sci'], axis=1)\n",
    "print(linking_data)"
   ]
  },
  {
   "cell_type": "code",
   "execution_count": 117,
   "metadata": {},
   "outputs": [
    {
     "name": "stdout",
     "output_type": "stream",
     "text": [
      "    pm   pp\n",
      "0  PM2  PP1\n",
      "1  PM2  PP2\n",
      "2  PM3  PP3\n",
      "3  PM5  PP4\n",
      "4  PM3  PP5\n",
      "5  PM5  PP6\n",
      "6  PM4  PP2\n",
      "7  PM4  PP3\n"
     ]
    }
   ],
   "source": [
    "# Identify rows where 'sci' is not empty and copy them to create new rows\n",
    "additional_rows = linking_data[linking_data['sci'] != ''].copy()\n",
    "additional_rows.loc[:, 'pm'] = additional_rows['sci']\n",
    "additional_rows.loc[:, 'sci'] = ''\n",
    "\n",
    "# Append new rows to the original dataframe\n",
    "linking_data = pd.concat([linking_data, additional_rows], ignore_index=True)\n",
    "\n",
    "# Drop the 'sci' column if it's no longer needed\n",
    "linking_data.drop('sci', axis=1, inplace=True)\n",
    "\n",
    "# Display the updated DataFrame\n",
    "print(linking_data)"
   ]
  },
  {
   "cell_type": "code",
   "execution_count": 118,
   "metadata": {},
   "outputs": [
    {
     "data": {
      "text/html": [
       "<div>\n",
       "<style scoped>\n",
       "    .dataframe tbody tr th:only-of-type {\n",
       "        vertical-align: middle;\n",
       "    }\n",
       "\n",
       "    .dataframe tbody tr th {\n",
       "        vertical-align: top;\n",
       "    }\n",
       "\n",
       "    .dataframe thead th {\n",
       "        text-align: right;\n",
       "    }\n",
       "</style>\n",
       "<table border=\"1\" class=\"dataframe\">\n",
       "  <thead>\n",
       "    <tr style=\"text-align: right;\">\n",
       "      <th></th>\n",
       "      <th>nom</th>\n",
       "      <th>id</th>\n",
       "    </tr>\n",
       "  </thead>\n",
       "  <tbody>\n",
       "    <tr>\n",
       "      <th>0</th>\n",
       "      <td>PM2</td>\n",
       "      <td>1003</td>\n",
       "    </tr>\n",
       "    <tr>\n",
       "      <th>1</th>\n",
       "      <td>PM3</td>\n",
       "      <td>1004</td>\n",
       "    </tr>\n",
       "    <tr>\n",
       "      <th>2</th>\n",
       "      <td>PM1</td>\n",
       "      <td>1000</td>\n",
       "    </tr>\n",
       "    <tr>\n",
       "      <th>3</th>\n",
       "      <td>PM4</td>\n",
       "      <td>1002</td>\n",
       "    </tr>\n",
       "    <tr>\n",
       "      <th>4</th>\n",
       "      <td>PM1</td>\n",
       "      <td>1002</td>\n",
       "    </tr>\n",
       "  </tbody>\n",
       "</table>\n",
       "</div>"
      ],
      "text/plain": [
       "   nom    id\n",
       "0  PM2  1003\n",
       "1  PM3  1004\n",
       "2  PM1  1000\n",
       "3  PM4  1002\n",
       "4  PM1  1002"
      ]
     },
     "execution_count": 118,
     "metadata": {},
     "output_type": "execute_result"
    }
   ],
   "source": [
    "pm_data"
   ]
  },
  {
   "cell_type": "code",
   "execution_count": 119,
   "metadata": {},
   "outputs": [
    {
     "data": {
      "text/html": [
       "<div>\n",
       "<style scoped>\n",
       "    .dataframe tbody tr th:only-of-type {\n",
       "        vertical-align: middle;\n",
       "    }\n",
       "\n",
       "    .dataframe tbody tr th {\n",
       "        vertical-align: top;\n",
       "    }\n",
       "\n",
       "    .dataframe thead th {\n",
       "        text-align: right;\n",
       "    }\n",
       "</style>\n",
       "<table border=\"1\" class=\"dataframe\">\n",
       "  <thead>\n",
       "    <tr style=\"text-align: right;\">\n",
       "      <th></th>\n",
       "      <th>nom</th>\n",
       "      <th>id</th>\n",
       "      <th>pm</th>\n",
       "      <th>pp</th>\n",
       "    </tr>\n",
       "  </thead>\n",
       "  <tbody>\n",
       "    <tr>\n",
       "      <th>0</th>\n",
       "      <td>PM2</td>\n",
       "      <td>1003</td>\n",
       "      <td>PM2</td>\n",
       "      <td>PP1</td>\n",
       "    </tr>\n",
       "    <tr>\n",
       "      <th>1</th>\n",
       "      <td>PM2</td>\n",
       "      <td>1003</td>\n",
       "      <td>PM2</td>\n",
       "      <td>PP2</td>\n",
       "    </tr>\n",
       "    <tr>\n",
       "      <th>2</th>\n",
       "      <td>PM3</td>\n",
       "      <td>1004</td>\n",
       "      <td>PM3</td>\n",
       "      <td>PP3</td>\n",
       "    </tr>\n",
       "    <tr>\n",
       "      <th>3</th>\n",
       "      <td>PM3</td>\n",
       "      <td>1004</td>\n",
       "      <td>PM3</td>\n",
       "      <td>PP5</td>\n",
       "    </tr>\n",
       "    <tr>\n",
       "      <th>4</th>\n",
       "      <td>PM4</td>\n",
       "      <td>1002</td>\n",
       "      <td>PM4</td>\n",
       "      <td>PP2</td>\n",
       "    </tr>\n",
       "    <tr>\n",
       "      <th>5</th>\n",
       "      <td>PM4</td>\n",
       "      <td>1002</td>\n",
       "      <td>PM4</td>\n",
       "      <td>PP3</td>\n",
       "    </tr>\n",
       "  </tbody>\n",
       "</table>\n",
       "</div>"
      ],
      "text/plain": [
       "   nom    id   pm   pp\n",
       "0  PM2  1003  PM2  PP1\n",
       "1  PM2  1003  PM2  PP2\n",
       "2  PM3  1004  PM3  PP3\n",
       "3  PM3  1004  PM3  PP5\n",
       "4  PM4  1002  PM4  PP2\n",
       "5  PM4  1002  PM4  PP3"
      ]
     },
     "execution_count": 119,
     "metadata": {},
     "output_type": "execute_result"
    }
   ],
   "source": [
    "# first merge between pm_data and linking_data\n",
    "transit_data = pm_data.merge(linking_data, left_on='nom', right_on='pm', how='inner')\n",
    "transit_data"
   ]
  },
  {
   "cell_type": "code",
   "execution_count": 120,
   "metadata": {},
   "outputs": [
    {
     "data": {
      "text/html": [
       "<div>\n",
       "<style scoped>\n",
       "    .dataframe tbody tr th:only-of-type {\n",
       "        vertical-align: middle;\n",
       "    }\n",
       "\n",
       "    .dataframe tbody tr th {\n",
       "        vertical-align: top;\n",
       "    }\n",
       "\n",
       "    .dataframe thead th {\n",
       "        text-align: right;\n",
       "    }\n",
       "</style>\n",
       "<table border=\"1\" class=\"dataframe\">\n",
       "  <thead>\n",
       "    <tr style=\"text-align: right;\">\n",
       "      <th></th>\n",
       "      <th>nom_pm</th>\n",
       "      <th>id_pm</th>\n",
       "      <th>pm</th>\n",
       "      <th>pp</th>\n",
       "      <th>nom_pp</th>\n",
       "      <th>id_pp</th>\n",
       "    </tr>\n",
       "  </thead>\n",
       "  <tbody>\n",
       "    <tr>\n",
       "      <th>0</th>\n",
       "      <td>PM2</td>\n",
       "      <td>1003</td>\n",
       "      <td>PM2</td>\n",
       "      <td>PP1</td>\n",
       "      <td>PP1</td>\n",
       "      <td>2002</td>\n",
       "    </tr>\n",
       "    <tr>\n",
       "      <th>1</th>\n",
       "      <td>PM2</td>\n",
       "      <td>1003</td>\n",
       "      <td>PM2</td>\n",
       "      <td>PP1</td>\n",
       "      <td>PP1</td>\n",
       "      <td>2000</td>\n",
       "    </tr>\n",
       "    <tr>\n",
       "      <th>2</th>\n",
       "      <td>PM2</td>\n",
       "      <td>1003</td>\n",
       "      <td>PM2</td>\n",
       "      <td>PP1</td>\n",
       "      <td>PP1</td>\n",
       "      <td>2000</td>\n",
       "    </tr>\n",
       "    <tr>\n",
       "      <th>3</th>\n",
       "      <td>PM2</td>\n",
       "      <td>1003</td>\n",
       "      <td>PM2</td>\n",
       "      <td>PP2</td>\n",
       "      <td>PP2</td>\n",
       "      <td>2001</td>\n",
       "    </tr>\n",
       "    <tr>\n",
       "      <th>4</th>\n",
       "      <td>PM4</td>\n",
       "      <td>1002</td>\n",
       "      <td>PM4</td>\n",
       "      <td>PP2</td>\n",
       "      <td>PP2</td>\n",
       "      <td>2001</td>\n",
       "    </tr>\n",
       "    <tr>\n",
       "      <th>5</th>\n",
       "      <td>PM3</td>\n",
       "      <td>1004</td>\n",
       "      <td>PM3</td>\n",
       "      <td>PP3</td>\n",
       "      <td>PP3</td>\n",
       "      <td>2001</td>\n",
       "    </tr>\n",
       "    <tr>\n",
       "      <th>6</th>\n",
       "      <td>PM4</td>\n",
       "      <td>1002</td>\n",
       "      <td>PM4</td>\n",
       "      <td>PP3</td>\n",
       "      <td>PP3</td>\n",
       "      <td>2001</td>\n",
       "    </tr>\n",
       "  </tbody>\n",
       "</table>\n",
       "</div>"
      ],
      "text/plain": [
       "  nom_pm  id_pm   pm   pp nom_pp  id_pp\n",
       "0    PM2   1003  PM2  PP1    PP1   2002\n",
       "1    PM2   1003  PM2  PP1    PP1   2000\n",
       "2    PM2   1003  PM2  PP1    PP1   2000\n",
       "3    PM2   1003  PM2  PP2    PP2   2001\n",
       "4    PM4   1002  PM4  PP2    PP2   2001\n",
       "5    PM3   1004  PM3  PP3    PP3   2001\n",
       "6    PM4   1002  PM4  PP3    PP3   2001"
      ]
     },
     "execution_count": 120,
     "metadata": {},
     "output_type": "execute_result"
    }
   ],
   "source": [
    "#final merge between transit_data and pp_concat\n",
    "final_data = transit_data.merge(pp_concat, left_on='pp', right_on='nom', how='inner', suffixes=('_pm', '_pp'))\n",
    "final_data"
   ]
  },
  {
   "cell_type": "code",
   "execution_count": 121,
   "metadata": {},
   "outputs": [
    {
     "data": {
      "text/html": [
       "<div>\n",
       "<style scoped>\n",
       "    .dataframe tbody tr th:only-of-type {\n",
       "        vertical-align: middle;\n",
       "    }\n",
       "\n",
       "    .dataframe tbody tr th {\n",
       "        vertical-align: top;\n",
       "    }\n",
       "\n",
       "    .dataframe thead th {\n",
       "        text-align: right;\n",
       "    }\n",
       "</style>\n",
       "<table border=\"1\" class=\"dataframe\">\n",
       "  <thead>\n",
       "    <tr style=\"text-align: right;\">\n",
       "      <th></th>\n",
       "      <th>id_pm</th>\n",
       "      <th>pm</th>\n",
       "      <th>pp</th>\n",
       "      <th>id_pp</th>\n",
       "    </tr>\n",
       "  </thead>\n",
       "  <tbody>\n",
       "    <tr>\n",
       "      <th>0</th>\n",
       "      <td>1003</td>\n",
       "      <td>PM2</td>\n",
       "      <td>PP1</td>\n",
       "      <td>2002</td>\n",
       "    </tr>\n",
       "    <tr>\n",
       "      <th>1</th>\n",
       "      <td>1003</td>\n",
       "      <td>PM2</td>\n",
       "      <td>PP1</td>\n",
       "      <td>2000</td>\n",
       "    </tr>\n",
       "    <tr>\n",
       "      <th>2</th>\n",
       "      <td>1003</td>\n",
       "      <td>PM2</td>\n",
       "      <td>PP1</td>\n",
       "      <td>2000</td>\n",
       "    </tr>\n",
       "    <tr>\n",
       "      <th>3</th>\n",
       "      <td>1003</td>\n",
       "      <td>PM2</td>\n",
       "      <td>PP2</td>\n",
       "      <td>2001</td>\n",
       "    </tr>\n",
       "    <tr>\n",
       "      <th>4</th>\n",
       "      <td>1002</td>\n",
       "      <td>PM4</td>\n",
       "      <td>PP2</td>\n",
       "      <td>2001</td>\n",
       "    </tr>\n",
       "    <tr>\n",
       "      <th>5</th>\n",
       "      <td>1004</td>\n",
       "      <td>PM3</td>\n",
       "      <td>PP3</td>\n",
       "      <td>2001</td>\n",
       "    </tr>\n",
       "    <tr>\n",
       "      <th>6</th>\n",
       "      <td>1002</td>\n",
       "      <td>PM4</td>\n",
       "      <td>PP3</td>\n",
       "      <td>2001</td>\n",
       "    </tr>\n",
       "  </tbody>\n",
       "</table>\n",
       "</div>"
      ],
      "text/plain": [
       "   id_pm   pm   pp  id_pp\n",
       "0   1003  PM2  PP1   2002\n",
       "1   1003  PM2  PP1   2000\n",
       "2   1003  PM2  PP1   2000\n",
       "3   1003  PM2  PP2   2001\n",
       "4   1002  PM4  PP2   2001\n",
       "5   1004  PM3  PP3   2001\n",
       "6   1002  PM4  PP3   2001"
      ]
     },
     "execution_count": 121,
     "metadata": {},
     "output_type": "execute_result"
    }
   ],
   "source": [
    "# final cleaning: drop the columns 'nom_pm' and 'nom_pp'\n",
    "final_data.drop(['nom_pm', 'nom_pp'], axis=1, inplace=True)\n",
    "final_data"
   ]
  }
 ],
 "metadata": {
  "kernelspec": {
   "display_name": "Python 3",
   "language": "python",
   "name": "python3"
  },
  "language_info": {
   "codemirror_mode": {
    "name": "ipython",
    "version": 3
   },
   "file_extension": ".py",
   "mimetype": "text/x-python",
   "name": "python",
   "nbconvert_exporter": "python",
   "pygments_lexer": "ipython3",
   "version": "3.11.3"
  }
 },
 "nbformat": 4,
 "nbformat_minor": 2
}
